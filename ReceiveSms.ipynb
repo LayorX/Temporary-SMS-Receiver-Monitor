{
  "cells": [
    {
      "cell_type": "markdown",
      "metadata": {
        "id": "793c473f"
      },
      "source": [
        "## ngrok Authtoken\n",
        "\n",
        "請在 Colab Secrets Manager 中輸入您的 ngrok Authtoken。\n",
        "\n",
        "Please enter your ngrok Authtoken in the Colab Secrets Manager.\n",
        "\n",
        "Configure ngrok for Remote Access\n",
        "\n",
        "We'll use ngrok to create a secure tunnel to expose our local Streamlit server to the internet.\n",
        "\n",
        "Important: You need to get your authentication token from the ngrok dashboard to use this service."
      ]
    },
    {
      "cell_type": "markdown",
      "metadata": {
        "id": "87049ed7"
      },
      "source": [
        "## Global Configuration (全域設定)\n",
        "\n",
        "請設定任何必要的全域設定，以確保 notebook 正常運行。\n",
        "\n",
        "Please set up any necessary global configurations for the notebook to run correctly."
      ]
    },
    {
      "cell_type": "markdown",
      "metadata": {
        "id": "3IJ3cgx8eJUg"
      },
      "source": [
        "## 安裝 Google Chrome (如果需要)\n",
        "\n",
        "如果環境中沒有安裝 Google Chrome，請執行此段程式碼。\n",
        "\n",
        "## Install Google Chrome (If needed)\n",
        "\n",
        "Run this section if Google Chrome is not installed in the environment."
      ]
    },
    {
      "cell_type": "code",
      "execution_count": null,
      "metadata": {
        "colab": {
          "base_uri": "https://localhost:8080/"
        },
        "id": "SkM-xrImHwWx",
        "outputId": "01a4360a-e315-4572-bdd6-21d3c0d181b7"
      },
      "outputs": [],
      "source": [
        "%cd /content/RS\n",
        "# 更新套件列表 / Update package list\n",
        "!apt-get update\n",
        "\n",
        "# 1. 下載正確的 Google Chrome 安裝檔 / Download the correct Google Chrome installation file\n",
        "!wget https://dl.google.com/linux/direct/google-chrome-stable_current_amd64.deb\n",
        "\n",
        "# 2. 安裝下載的 .deb 檔案 (注意路徑前的 ./) / Install the downloaded .deb file (note the ./ before the path)\n",
        "!apt install --fix-broken -y ./google-chrome-stable_current_amd64.deb"
      ]
    },
    {
      "cell_type": "markdown",
      "metadata": {
        "id": "0xlCBNzPejrC"
      },
      "source": [
        "## 執行 Python 應用程式\n",
        "\n",
        "## Run Python Application"
      ]
    },
    {
      "cell_type": "code",
      "execution_count": null,
      "metadata": {
        "colab": {
          "base_uri": "https://localhost:8080/"
        },
        "id": "sz5x02twd9SI",
        "outputId": "951abf6b-4974-4d6c-941f-cb3b0f1df619"
      },
      "outputs": [],
      "source": [
        "# 3. 執行您的 Python 應用 / Run your Python application\n",
        "%cd /content/RS\n",
        "from google.colab import userdata\n",
        "ng_token=userdata.get(\"NGROK_AUTH_TOKEN\")\n",
        "!uv sync\n",
        "!uv run python public.py --ngrok_token $ng_token"
      ]
    }
  ],
  "metadata": {
    "colab": {
      "provenance": []
    },
    "kernelspec": {
      "display_name": "Python 3",
      "name": "python3"
    },
    "language_info": {
      "name": "python"
    }
  },
  "nbformat": 4,
  "nbformat_minor": 0
}
